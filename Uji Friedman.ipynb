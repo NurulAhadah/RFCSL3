{
 "cells": [
  {
   "cell_type": "code",
   "execution_count": 3,
   "metadata": {},
   "outputs": [
    {
     "name": "stdout",
     "output_type": "stream",
     "text": [
      "Index(['Fold', 'Baseline', 'Undersampling', 'Oversampling', 'CSL'], dtype='object')\n",
      "Statistik Friedman: 11.081632653061224\n",
      "p-value: 0.011292548124917685\n",
      "Terdapat perbedaan signifikan antara metode.\n"
     ]
    }
   ],
   "source": [
    "import pandas as pd\n",
    "from scipy.stats import friedmanchisquare\n",
    "\n",
    "#baca file\n",
    "df = pd.read_csv('F1-score4m.csv')\n",
    "\n",
    "# Pastikan nama kolom sesuai\n",
    "print(df.columns)  # Gunakan ini untuk verifikasi jika perlu\n",
    "\n",
    "# Lakukan uji Friedman\n",
    "statistic, p_value = friedmanchisquare(\n",
    "    df[\"Baseline\"],\n",
    "    df[\"Undersampling\"],\n",
    "    df[\"Oversampling\"],\n",
    "    df[\"CSL\"]\n",
    ")\n",
    "\n",
    "# Tampilkan hasil\n",
    "print(\"Statistik Friedman:\", statistic)\n",
    "print(\"p-value:\", p_value)\n",
    "\n",
    "# Interpretasi sederhana\n",
    "if p_value < 0.05:\n",
    "    print(\"Terdapat perbedaan signifikan antara metode.\")\n",
    "else:\n",
    "    print(\"Tidak terdapat perbedaan signifikan antara metode.\")\n"
   ]
  },
  {
   "cell_type": "code",
   "execution_count": null,
   "metadata": {},
   "outputs": [],
   "source": []
  }
 ],
 "metadata": {
  "kernelspec": {
   "display_name": "Python 3",
   "language": "python",
   "name": "python3"
  },
  "language_info": {
   "codemirror_mode": {
    "name": "ipython",
    "version": 3
   },
   "file_extension": ".py",
   "mimetype": "text/x-python",
   "name": "python",
   "nbconvert_exporter": "python",
   "pygments_lexer": "ipython3",
   "version": "3.8.5"
  }
 },
 "nbformat": 4,
 "nbformat_minor": 4
}
