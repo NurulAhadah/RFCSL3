{
 "cells": [
  {
   "cell_type": "code",
   "execution_count": 1,
   "metadata": {},
   "outputs": [],
   "source": [
    "from sklearn.preprocessing import LabelEncoder\n",
    "from sklearn.model_selection import StratifiedKFold\n",
    "from sklearn.ensemble import RandomForestClassifier\n",
    "from sklearn.metrics import classification_report, confusion_matrix\n",
    "import numpy as np\n",
    "import pandas as pd\n",
    "from joblib import dump\n",
    "from imblearn.under_sampling import RandomUnderSampler"
   ]
  },
  {
   "cell_type": "code",
   "execution_count": 2,
   "metadata": {},
   "outputs": [],
   "source": [
    "#baca file\n",
    "df = pd.read_csv('MICE2024.csv')"
   ]
  },
  {
   "cell_type": "code",
   "execution_count": 3,
   "metadata": {},
   "outputs": [],
   "source": [
    "# melabeli\n",
    "le = LabelEncoder()\n",
    "df['categori_code'] = le.fit_transform(df['categori'])"
   ]
  },
  {
   "cell_type": "code",
   "execution_count": 4,
   "metadata": {},
   "outputs": [
    {
     "name": "stdout",
     "output_type": "stream",
     "text": [
      "BAIK => 0\n",
      "SEDANG => 1\n",
      "TIDAK SEHAT => 2\n"
     ]
    }
   ],
   "source": [
    "for i, label in enumerate(le.classes_):\n",
    "    print(f\"{label} => {i}\")"
   ]
  },
  {
   "cell_type": "code",
   "execution_count": 5,
   "metadata": {},
   "outputs": [],
   "source": [
    "X = df.drop(columns=['categori','categori_code'])\n",
    "y = df['categori_code']"
   ]
  },
  {
   "cell_type": "code",
   "execution_count": 6,
   "metadata": {},
   "outputs": [],
   "source": [
    "#K-Fold\n",
    "skf = StratifiedKFold(n_splits=5, shuffle=True, random_state=42)"
   ]
  },
  {
   "cell_type": "code",
   "execution_count": 7,
   "metadata": {},
   "outputs": [],
   "source": [
    "# hasil untuk setiap fold\n",
    "reports = []\n",
    "matrices = []"
   ]
  },
  {
   "cell_type": "code",
   "execution_count": 8,
   "metadata": {},
   "outputs": [
    {
     "name": "stdout",
     "output_type": "stream",
     "text": [
      "Model fold-1 disimpan.\n",
      "Model fold-2 disimpan.\n",
      "Model fold-3 disimpan.\n",
      "Model fold-4 disimpan.\n",
      "Model fold-5 disimpan.\n"
     ]
    }
   ],
   "source": [
    "for fold_idx, (train_idx, test_idx) in enumerate(skf.split(X, y), start=1):\n",
    "    X_train, X_test = X.iloc[train_idx], X.iloc[test_idx]\n",
    "    y_train, y_test = y.iloc[train_idx], y.iloc[test_idx]\n",
    "\n",
    "    # Undersampling\n",
    "    rus = RandomUnderSampler(random_state=42)\n",
    "    X_train_bal, y_train_bal = rus.fit_resample(X_train, y_train)\n",
    "\n",
    "    model = RandomForestClassifier(random_state=42)\n",
    "    model.fit(X_train_bal, y_train_bal)\n",
    "    pred = model.predict(X_test)\n",
    "\n",
    "    dump(model, f'model_rf_undersampling_fold{fold_idx}.pkl')\n",
    "    print(f\"Model fold-{fold_idx} disimpan.\")\n",
    "\n",
    "    report = classification_report(y_test, pred, output_dict=True, zero_division=0)\n",
    "    matrix = confusion_matrix(y_test, pred)\n",
    "\n",
    "    reports.append(report)\n",
    "    matrices.append(matrix)\n",
    "\n",
    "# Simpan laporan\n",
    "report_dfs = []\n",
    "for i, r in enumerate(reports, 1):\n",
    "    df_r = pd.DataFrame(r).transpose()\n",
    "    df_r['fold'] = i\n",
    "    report_dfs.append(df_r)\n",
    "\n",
    "all_reports_df = pd.concat(report_dfs)\n",
    "\n",
    "matrix_dfs = []\n",
    "for i, m in enumerate(matrices, 1):\n",
    "    df_m = pd.DataFrame(m, index=le.classes_, columns=le.classes_)\n",
    "    df_m['fold'] = i\n",
    "    matrix_dfs.append(df_m)\n",
    "\n",
    "all_matrix_df = pd.concat(matrix_dfs)\n",
    "\n",
    "with pd.ExcelWriter(\"hasil_evaluasi_RF_Undersampling.xlsx\") as writer:\n",
    "    all_reports_df.to_excel(writer, sheet_name=\"Classification Report\")\n",
    "    all_matrix_df.to_excel(writer, sheet_name=\"Confusion Matrix\")\n"
   ]
  },
  {
   "cell_type": "code",
   "execution_count": 9,
   "metadata": {},
   "outputs": [
    {
     "name": "stdout",
     "output_type": "stream",
     "text": [
      "\n",
      "=== Fold 1 ===\n",
      "Distribusi SEBELUM undersampling: Counter({1: 1395, 0: 276, 2: 144})\n",
      "Distribusi SETELAH undersampling: Counter({0: 144, 1: 144, 2: 144})\n",
      "Model fold-1 disimpan.\n",
      "\n",
      "=== Fold 2 ===\n",
      "Distribusi SEBELUM undersampling: Counter({1: 1395, 0: 276, 2: 144})\n",
      "Distribusi SETELAH undersampling: Counter({0: 144, 1: 144, 2: 144})\n",
      "Model fold-2 disimpan.\n",
      "\n",
      "=== Fold 3 ===\n",
      "Distribusi SEBELUM undersampling: Counter({1: 1395, 0: 276, 2: 144})\n",
      "Distribusi SETELAH undersampling: Counter({0: 144, 1: 144, 2: 144})\n",
      "Model fold-3 disimpan.\n",
      "\n",
      "=== Fold 4 ===\n",
      "Distribusi SEBELUM undersampling: Counter({1: 1395, 0: 276, 2: 144})\n",
      "Distribusi SETELAH undersampling: Counter({0: 144, 1: 144, 2: 144})\n",
      "Model fold-4 disimpan.\n",
      "\n",
      "=== Fold 5 ===\n",
      "Distribusi SEBELUM undersampling: Counter({1: 1396, 0: 276, 2: 144})\n",
      "Distribusi SETELAH undersampling: Counter({0: 144, 1: 144, 2: 144})\n",
      "Model fold-5 disimpan.\n"
     ]
    }
   ],
   "source": [
    "from collections import Counter\n",
    "\n",
    "for fold_idx, (train_idx, test_idx) in enumerate(skf.split(X, y), start=1):\n",
    "    X_train, X_test = X.iloc[train_idx], X.iloc[test_idx]\n",
    "    y_train, y_test = y.iloc[train_idx], y.iloc[test_idx]\n",
    "    \n",
    "    # Distribusi sebelum undersampling\n",
    "    print(f\"\\n=== Fold {fold_idx} ===\")\n",
    "    print(\"Distribusi SEBELUM undersampling:\", Counter(y_train))\n",
    "\n",
    "    # Undersampling\n",
    "    rus = RandomUnderSampler(random_state=42)\n",
    "    X_train_bal, y_train_bal = rus.fit_resample(X_train, y_train)\n",
    "\n",
    "    # Distribusi setelah undersampling\n",
    "    print(\"Distribusi SETELAH undersampling:\", Counter(y_train_bal))\n",
    "\n",
    "    # Model training & evaluation\n",
    "    model = RandomForestClassifier(random_state=42, n_estimators=100)\n",
    "    model.fit(X_train_bal, y_train_bal)\n",
    "    pred = model.predict(X_test)\n",
    "\n",
    "    dump(model, f'model_rf_undersampling_fold{fold_idx}.pkl')\n",
    "    print(f\"Model fold-{fold_idx} disimpan.\")\n",
    "\n",
    "    report = classification_report(y_test, pred, output_dict=True, zero_division=0)\n",
    "    matrix = confusion_matrix(y_test, pred)\n",
    "    reports.append(report)\n",
    "    matrices.append(matrix)\n"
   ]
  },
  {
   "cell_type": "code",
   "execution_count": null,
   "metadata": {},
   "outputs": [],
   "source": []
  }
 ],
 "metadata": {
  "kernelspec": {
   "display_name": "Python 3",
   "language": "python",
   "name": "python3"
  },
  "language_info": {
   "codemirror_mode": {
    "name": "ipython",
    "version": 3
   },
   "file_extension": ".py",
   "mimetype": "text/x-python",
   "name": "python",
   "nbconvert_exporter": "python",
   "pygments_lexer": "ipython3",
   "version": "3.8.5"
  }
 },
 "nbformat": 4,
 "nbformat_minor": 4
}
