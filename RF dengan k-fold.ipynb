{
 "cells": [
  {
   "cell_type": "code",
   "execution_count": 1,
   "metadata": {},
   "outputs": [],
   "source": [
    "from sklearn.preprocessing import LabelEncoder\n",
    "from sklearn.model_selection import StratifiedKFold\n",
    "from sklearn.ensemble import RandomForestClassifier\n",
    "from sklearn.metrics import classification_report, confusion_matrix\n",
    "import numpy as np\n",
    "import pandas as pd\n",
    "from joblib import dump"
   ]
  },
  {
   "cell_type": "code",
   "execution_count": 2,
   "metadata": {},
   "outputs": [],
   "source": [
    "#baca file\n",
    "df = pd.read_csv('MICE2024.csv')"
   ]
  },
  {
   "cell_type": "code",
   "execution_count": 3,
   "metadata": {},
   "outputs": [],
   "source": [
    "# melabeli\n",
    "le = LabelEncoder()\n",
    "df['categori_code'] = le.fit_transform(df['categori'])"
   ]
  },
  {
   "cell_type": "code",
   "execution_count": 4,
   "metadata": {},
   "outputs": [
    {
     "name": "stdout",
     "output_type": "stream",
     "text": [
      "BAIK => 0\n",
      "SEDANG => 1\n",
      "TIDAK SEHAT => 2\n"
     ]
    }
   ],
   "source": [
    "for i, label in enumerate(le.classes_):\n",
    "    print(f\"{label} => {i}\")"
   ]
  },
  {
   "cell_type": "code",
   "execution_count": 5,
   "metadata": {},
   "outputs": [],
   "source": [
    "X = df.drop(columns=['categori','categori_code'])\n",
    "y = df['categori_code']"
   ]
  },
  {
   "cell_type": "code",
   "execution_count": 6,
   "metadata": {},
   "outputs": [],
   "source": [
    "#K-Fold\n",
    "skf = StratifiedKFold(n_splits=5, shuffle=True, random_state=42)"
   ]
  },
  {
   "cell_type": "code",
   "execution_count": 7,
   "metadata": {},
   "outputs": [],
   "source": [
    "# hasil untuk setiap fold\n",
    "RF_no_CSL_reports = []\n",
    "RF_no_CSL_matrices = []"
   ]
  },
  {
   "cell_type": "code",
   "execution_count": 8,
   "metadata": {},
   "outputs": [
    {
     "name": "stdout",
     "output_type": "stream",
     "text": [
      " Model untuk Fold 1 disimpan sebagai 'model_rf_fold1.pkl'\n",
      " Model untuk Fold 2 disimpan sebagai 'model_rf_fold2.pkl'\n",
      " Model untuk Fold 3 disimpan sebagai 'model_rf_fold3.pkl'\n",
      " Model untuk Fold 4 disimpan sebagai 'model_rf_fold4.pkl'\n",
      " Model untuk Fold 5 disimpan sebagai 'model_rf_fold5.pkl'\n"
     ]
    },
    {
     "data": {
      "text/plain": [
       "([{'0': {'precision': 0.984375,\n",
       "    'recall': 0.9130434782608695,\n",
       "    'f1-score': 0.9473684210526315,\n",
       "    'support': 69},\n",
       "   '1': {'precision': 0.980225988700565,\n",
       "    'recall': 0.994269340974212,\n",
       "    'f1-score': 0.9871977240398293,\n",
       "    'support': 349},\n",
       "   '2': {'precision': 0.9722222222222222,\n",
       "    'recall': 0.9722222222222222,\n",
       "    'f1-score': 0.9722222222222222,\n",
       "    'support': 36},\n",
       "   'accuracy': 0.9801762114537445,\n",
       "   'macro avg': {'precision': 0.9789410703075957,\n",
       "    'recall': 0.9598450138191014,\n",
       "    'f1-score': 0.9689294557715611,\n",
       "    'support': 454},\n",
       "   'weighted avg': {'precision': 0.9802219054107867,\n",
       "    'recall': 0.9801762114537445,\n",
       "    'f1-score': 0.979956887098088,\n",
       "    'support': 454}},\n",
       "  {'0': {'precision': 0.9850746268656716,\n",
       "    'recall': 0.9565217391304348,\n",
       "    'f1-score': 0.9705882352941176,\n",
       "    'support': 69},\n",
       "   '1': {'precision': 0.9886363636363636,\n",
       "    'recall': 0.997134670487106,\n",
       "    'f1-score': 0.9928673323823111,\n",
       "    'support': 349},\n",
       "   '2': {'precision': 1.0,\n",
       "    'recall': 0.9722222222222222,\n",
       "    'f1-score': 0.9859154929577464,\n",
       "    'support': 36},\n",
       "   'accuracy': 0.9889867841409692,\n",
       "   'macro avg': {'precision': 0.9912369968340117,\n",
       "    'recall': 0.9752928772799211,\n",
       "    'f1-score': 0.9831236868780584,\n",
       "    'support': 454},\n",
       "   'weighted avg': {'precision': 0.988996123706657,\n",
       "    'recall': 0.9889867841409692,\n",
       "    'f1-score': 0.9889300550290739,\n",
       "    'support': 454}},\n",
       "  {'0': {'precision': 0.96875,\n",
       "    'recall': 0.8985507246376812,\n",
       "    'f1-score': 0.9323308270676692,\n",
       "    'support': 69},\n",
       "   '1': {'precision': 0.9774647887323944,\n",
       "    'recall': 0.994269340974212,\n",
       "    'f1-score': 0.9857954545454546,\n",
       "    'support': 349},\n",
       "   '2': {'precision': 1.0,\n",
       "    'recall': 0.9722222222222222,\n",
       "    'f1-score': 0.9859154929577464,\n",
       "    'support': 36},\n",
       "   'accuracy': 0.9779735682819384,\n",
       "   'macro avg': {'precision': 0.9820715962441314,\n",
       "    'recall': 0.9550140959447052,\n",
       "    'f1-score': 0.9680139248569568,\n",
       "    'support': 454},\n",
       "   'weighted avg': {'precision': 0.9779272274616865,\n",
       "    'recall': 0.9779735682819384,\n",
       "    'f1-score': 0.9776792917412152,\n",
       "    'support': 454}},\n",
       "  {'0': {'precision': 0.9701492537313433,\n",
       "    'recall': 0.9420289855072463,\n",
       "    'f1-score': 0.9558823529411764,\n",
       "    'support': 69},\n",
       "   '1': {'precision': 0.980225988700565,\n",
       "    'recall': 0.994269340974212,\n",
       "    'f1-score': 0.9871977240398293,\n",
       "    'support': 349},\n",
       "   '2': {'precision': 1.0,\n",
       "    'recall': 0.9166666666666666,\n",
       "    'f1-score': 0.9565217391304348,\n",
       "    'support': 36},\n",
       "   'accuracy': 0.9801762114537445,\n",
       "   'macro avg': {'precision': 0.9834584141439695,\n",
       "    'recall': 0.9509883310493751,\n",
       "    'f1-score': 0.9665339387038134,\n",
       "    'support': 454},\n",
       "   'weighted avg': {'precision': 0.9802624858237001,\n",
       "    'recall': 0.9801762114537445,\n",
       "    'f1-score': 0.9800058824923729,\n",
       "    'support': 454}},\n",
       "  {'0': {'precision': 0.9852941176470589,\n",
       "    'recall': 0.9710144927536232,\n",
       "    'f1-score': 0.9781021897810219,\n",
       "    'support': 69},\n",
       "   '1': {'precision': 0.9914040114613181,\n",
       "    'recall': 0.9942528735632183,\n",
       "    'f1-score': 0.9928263988522238,\n",
       "    'support': 348},\n",
       "   '2': {'precision': 0.9722222222222222,\n",
       "    'recall': 0.9722222222222222,\n",
       "    'f1-score': 0.9722222222222222,\n",
       "    'support': 36},\n",
       "   'accuracy': 0.9889624724061811,\n",
       "   'macro avg': {'precision': 0.982973450443533,\n",
       "    'recall': 0.979163196179688,\n",
       "    'f1-score': 0.9810502702851559,\n",
       "    'support': 453},\n",
       "   'weighted avg': {'precision': 0.988948984781867,\n",
       "    'recall': 0.9889624724061811,\n",
       "    'f1-score': 0.988946220519789,\n",
       "    'support': 453}}],\n",
       " [array([[ 63,   6,   0],\n",
       "         [  1, 347,   1],\n",
       "         [  0,   1,  35]], dtype=int64),\n",
       "  array([[ 66,   3,   0],\n",
       "         [  1, 348,   0],\n",
       "         [  0,   1,  35]], dtype=int64),\n",
       "  array([[ 62,   7,   0],\n",
       "         [  2, 347,   0],\n",
       "         [  0,   1,  35]], dtype=int64),\n",
       "  array([[ 65,   4,   0],\n",
       "         [  2, 347,   0],\n",
       "         [  0,   3,  33]], dtype=int64),\n",
       "  array([[ 67,   2,   0],\n",
       "         [  1, 346,   1],\n",
       "         [  0,   1,  35]], dtype=int64)],\n",
       " array(['BAIK', 'SEDANG', 'TIDAK SEHAT'], dtype=object))"
      ]
     },
     "execution_count": 8,
     "metadata": {},
     "output_type": "execute_result"
    }
   ],
   "source": [
    "# Loop fold\n",
    "for fold_idx, (train_index, test_index) in enumerate(skf.split(X, y), start=1):\n",
    "    X_train, X_test = X.iloc[train_index], X.iloc[test_index]\n",
    "    y_train, y_test = y.iloc[train_index], y.iloc[test_index]\n",
    "\n",
    "    # Random Forest\n",
    "    RF = RandomForestClassifier(random_state=42, n_estimators=100)\n",
    "    RF.fit(X_train, y_train)\n",
    "    pred = RF.predict(X_test)\n",
    "    \n",
    "    # Simpan model ke file\n",
    "    model_RFFOLD = f'model_rf_fold{fold_idx}.pkl'\n",
    "    dump(RF, model_RFFOLD)\n",
    "    print(f\" Model untuk Fold {fold_idx} disimpan sebagai '{model_RFFOLD}'\")\n",
    "\n",
    "\n",
    "    # evaluasi model\n",
    "    report = classification_report(y_test, pred, output_dict=True, zero_division=0)\n",
    "    matrix = confusion_matrix(y_test, pred)\n",
    "\n",
    "    RF_no_CSL_reports.append(report)\n",
    "    RF_no_CSL_matrices.append(matrix)\n",
    "\n",
    "RF_no_CSL_reports, RF_no_CSL_matrices, le.classes_\n"
   ]
  },
  {
   "cell_type": "code",
   "execution_count": 9,
   "metadata": {},
   "outputs": [],
   "source": [
    "# Simpan semua classification report ke list of DataFrame\n",
    "report_dfs = []\n",
    "for i, report in enumerate(RF_no_CSL_reports, 1):\n",
    "    df_report = pd.DataFrame(report).transpose()\n",
    "    df_report['fold'] = i\n",
    "    report_dfs.append(df_report)\n",
    "\n",
    "# Gabungkan semua fold menjadi satu DataFrame\n",
    "all_reports_df = pd.concat(report_dfs)"
   ]
  },
  {
   "cell_type": "code",
   "execution_count": 10,
   "metadata": {},
   "outputs": [],
   "source": [
    "# Simpan semua Confusion matrix ke list of DataFrame\n",
    "matrix_dfs = []\n",
    "for i, matrix in enumerate(RF_no_CSL_matrices, 1):\n",
    "    df_matrix = pd.DataFrame(matrix, index=le.classes_, columns=le.classes_)\n",
    "    df_matrix['fold'] = i\n",
    "    matrix_dfs.append(df_matrix)\n",
    "    \n",
    " # Gabungkan semua fold menjadi satu DataFrame\n",
    "all_matrix_df = pd.concat(matrix_dfs)   "
   ]
  },
  {
   "cell_type": "code",
   "execution_count": 11,
   "metadata": {},
   "outputs": [],
   "source": [
    "# Simpan ke Excel:  dan confusion matrix\n",
    "with pd.ExcelWriter(\"hasil_evaluasi_rf_tanpa_CSL2024.xlsx\") as writer:\n",
    "      \n",
    "    # Sheet 1: Classification Reports\n",
    "    all_reports_df.to_excel(writer, sheet_name=\"Classification Report\")\n",
    "    \n",
    "    # Sheet 2: Confusion matrix\n",
    "    all_matrix_df.to_excel(writer, sheet_name=f\"ConfusionMatrix_Fold\")"
   ]
  },
  {
   "cell_type": "code",
   "execution_count": 12,
   "metadata": {},
   "outputs": [
    {
     "name": "stdout",
     "output_type": "stream",
     "text": [
      "{'bootstrap': True, 'ccp_alpha': 0.0, 'class_weight': None, 'criterion': 'gini', 'max_depth': None, 'max_features': 'sqrt', 'max_leaf_nodes': None, 'max_samples': None, 'min_impurity_decrease': 0.0, 'min_samples_leaf': 1, 'min_samples_split': 2, 'min_weight_fraction_leaf': 0.0, 'n_estimators': 100, 'n_jobs': None, 'oob_score': False, 'random_state': 42, 'verbose': 0, 'warm_start': False}\n"
     ]
    }
   ],
   "source": [
    "print(RF.get_params())"
   ]
  },
  {
   "cell_type": "code",
   "execution_count": null,
   "metadata": {},
   "outputs": [],
   "source": []
  },
  {
   "cell_type": "code",
   "execution_count": null,
   "metadata": {},
   "outputs": [],
   "source": []
  },
  {
   "cell_type": "code",
   "execution_count": null,
   "metadata": {},
   "outputs": [],
   "source": []
  }
 ],
 "metadata": {
  "kernelspec": {
   "display_name": "Python 3",
   "language": "python",
   "name": "python3"
  },
  "language_info": {
   "codemirror_mode": {
    "name": "ipython",
    "version": 3
   },
   "file_extension": ".py",
   "mimetype": "text/x-python",
   "name": "python",
   "nbconvert_exporter": "python",
   "pygments_lexer": "ipython3",
   "version": "3.8.5"
  }
 },
 "nbformat": 4,
 "nbformat_minor": 4
}
