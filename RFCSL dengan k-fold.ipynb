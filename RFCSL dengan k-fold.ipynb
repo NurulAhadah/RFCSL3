{
 "cells": [
  {
   "cell_type": "code",
   "execution_count": 1,
   "metadata": {},
   "outputs": [],
   "source": [
    "from sklearn.preprocessing import LabelEncoder\n",
    "from sklearn.model_selection import StratifiedKFold\n",
    "from sklearn.ensemble import RandomForestClassifier\n",
    "from sklearn.metrics import classification_report, confusion_matrix\n",
    "import numpy as np\n",
    "import pandas as pd\n",
    "from joblib import dump"
   ]
  },
  {
   "cell_type": "code",
   "execution_count": 2,
   "metadata": {},
   "outputs": [],
   "source": [
    "#baca file\n",
    "df = pd.read_csv('MICE2024.csv')"
   ]
  },
  {
   "cell_type": "code",
   "execution_count": 3,
   "metadata": {},
   "outputs": [],
   "source": [
    "# melabeli\n",
    "le = LabelEncoder()\n",
    "df['categori_code'] = le.fit_transform(df['categori'])"
   ]
  },
  {
   "cell_type": "code",
   "execution_count": 4,
   "metadata": {},
   "outputs": [
    {
     "name": "stdout",
     "output_type": "stream",
     "text": [
      "BAIK => 0\n",
      "SEDANG => 1\n",
      "TIDAK SEHAT => 2\n"
     ]
    }
   ],
   "source": [
    "#isi label\n",
    "for i, label in enumerate(le.classes_):\n",
    "    print(f\"{label} => {i}\")"
   ]
  },
  {
   "cell_type": "code",
   "execution_count": 5,
   "metadata": {},
   "outputs": [],
   "source": [
    "X = df.drop(columns=['categori','categori_code'])\n",
    "y = df['categori_code']"
   ]
  },
  {
   "cell_type": "code",
   "execution_count": 6,
   "metadata": {},
   "outputs": [],
   "source": [
    "#K-Fold\n",
    "skf = StratifiedKFold(n_splits=5, shuffle=True, random_state=42)"
   ]
  },
  {
   "cell_type": "code",
   "execution_count": 7,
   "metadata": {},
   "outputs": [],
   "source": [
    "# hasil untuk setiap fold\n",
    "RFCSL_reports = []\n",
    "RFCSL_matrices = []"
   ]
  },
  {
   "cell_type": "code",
   "execution_count": 8,
   "metadata": {},
   "outputs": [
    {
     "name": "stdout",
     "output_type": "stream",
     "text": [
      " Model untuk Fold 1 disimpan sebagai 'model_rfcsl_fold1.pkl'\n",
      " Model untuk Fold 2 disimpan sebagai 'model_rfcsl_fold2.pkl'\n",
      " Model untuk Fold 3 disimpan sebagai 'model_rfcsl_fold3.pkl'\n",
      " Model untuk Fold 4 disimpan sebagai 'model_rfcsl_fold4.pkl'\n",
      " Model untuk Fold 5 disimpan sebagai 'model_rfcsl_fold5.pkl'\n"
     ]
    },
    {
     "data": {
      "text/plain": [
       "([{'0': {'precision': 1.0,\n",
       "    'recall': 0.927536231884058,\n",
       "    'f1-score': 0.9624060150375939,\n",
       "    'support': 69},\n",
       "   '1': {'precision': 0.9775280898876404,\n",
       "    'recall': 0.997134670487106,\n",
       "    'f1-score': 0.9872340425531915,\n",
       "    'support': 349},\n",
       "   '2': {'precision': 0.9705882352941176,\n",
       "    'recall': 0.9166666666666666,\n",
       "    'f1-score': 0.9428571428571428,\n",
       "    'support': 36},\n",
       "   'accuracy': 0.9801762114537445,\n",
       "   'macro avg': {'precision': 0.9827054417272527,\n",
       "    'recall': 0.9471125230126102,\n",
       "    'f1-score': 0.9641657334826427,\n",
       "    'support': 454},\n",
       "   'weighted avg': {'precision': 0.9803931274039092,\n",
       "    'recall': 0.9801762114537445,\n",
       "    'f1-score': 0.9799417467654514,\n",
       "    'support': 454}},\n",
       "  {'0': {'precision': 1.0,\n",
       "    'recall': 0.9710144927536232,\n",
       "    'f1-score': 0.9852941176470589,\n",
       "    'support': 69},\n",
       "   '1': {'precision': 0.9914772727272727,\n",
       "    'recall': 1.0,\n",
       "    'f1-score': 0.9957203994293866,\n",
       "    'support': 349},\n",
       "   '2': {'precision': 1.0,\n",
       "    'recall': 0.9722222222222222,\n",
       "    'f1-score': 0.9859154929577464,\n",
       "    'support': 36},\n",
       "   'accuracy': 0.9933920704845814,\n",
       "   'macro avg': {'precision': 0.9971590909090908,\n",
       "    'recall': 0.9810789049919485,\n",
       "    'f1-score': 0.9889766700113972,\n",
       "    'support': 454},\n",
       "   'weighted avg': {'precision': 0.9934483880656788,\n",
       "    'recall': 0.9933920704845814,\n",
       "    'f1-score': 0.9933583067510613,\n",
       "    'support': 454}},\n",
       "  {'0': {'precision': 1.0,\n",
       "    'recall': 0.8985507246376812,\n",
       "    'f1-score': 0.9465648854961832,\n",
       "    'support': 69},\n",
       "   '1': {'precision': 0.9775910364145658,\n",
       "    'recall': 1.0,\n",
       "    'f1-score': 0.9886685552407931,\n",
       "    'support': 349},\n",
       "   '2': {'precision': 1.0,\n",
       "    'recall': 0.9722222222222222,\n",
       "    'f1-score': 0.9859154929577464,\n",
       "    'support': 36},\n",
       "   'accuracy': 0.9823788546255506,\n",
       "   'macro avg': {'precision': 0.992530345471522,\n",
       "    'recall': 0.9569243156199678,\n",
       "    'f1-score': 0.9737163112315743,\n",
       "    'support': 454},\n",
       "   'weighted avg': {'precision': 0.9827737262305803,\n",
       "    'recall': 0.9823788546255506,\n",
       "    'f1-score': 0.9820512348562825,\n",
       "    'support': 454}},\n",
       "  {'0': {'precision': 1.0,\n",
       "    'recall': 0.9420289855072463,\n",
       "    'f1-score': 0.9701492537313433,\n",
       "    'support': 69},\n",
       "   '1': {'precision': 0.9803370786516854,\n",
       "    'recall': 1.0,\n",
       "    'f1-score': 0.9900709219858156,\n",
       "    'support': 349},\n",
       "   '2': {'precision': 1.0,\n",
       "    'recall': 0.9166666666666666,\n",
       "    'f1-score': 0.9565217391304348,\n",
       "    'support': 36},\n",
       "   'accuracy': 0.9845814977973568,\n",
       "   'macro avg': {'precision': 0.9934456928838952,\n",
       "    'recall': 0.9528985507246377,\n",
       "    'f1-score': 0.9722473049491979,\n",
       "    'support': 454},\n",
       "   'weighted avg': {'precision': 0.9848846705934763,\n",
       "    'recall': 0.9845814977973568,\n",
       "    'f1-score': 0.9843828918264493,\n",
       "    'support': 454}},\n",
       "  {'0': {'precision': 0.9852941176470589,\n",
       "    'recall': 0.9710144927536232,\n",
       "    'f1-score': 0.9781021897810219,\n",
       "    'support': 69},\n",
       "   '1': {'precision': 0.9885714285714285,\n",
       "    'recall': 0.9942528735632183,\n",
       "    'f1-score': 0.991404011461318,\n",
       "    'support': 348},\n",
       "   '2': {'precision': 0.9714285714285714,\n",
       "    'recall': 0.9444444444444444,\n",
       "    'f1-score': 0.9577464788732395,\n",
       "    'support': 36},\n",
       "   'accuracy': 0.9867549668874173,\n",
       "   'macro avg': {'precision': 0.981764705882353,\n",
       "    'recall': 0.9699039369204288,\n",
       "    'f1-score': 0.9757508933718597,\n",
       "    'support': 453},\n",
       "   'weighted avg': {'precision': 0.9867098892537147,\n",
       "    'recall': 0.9867549668874173,\n",
       "    'f1-score': 0.9867031353705646,\n",
       "    'support': 453}}],\n",
       " [array([[ 64,   5,   0],\n",
       "         [  0, 348,   1],\n",
       "         [  0,   3,  33]], dtype=int64),\n",
       "  array([[ 67,   2,   0],\n",
       "         [  0, 349,   0],\n",
       "         [  0,   1,  35]], dtype=int64),\n",
       "  array([[ 62,   7,   0],\n",
       "         [  0, 349,   0],\n",
       "         [  0,   1,  35]], dtype=int64),\n",
       "  array([[ 65,   4,   0],\n",
       "         [  0, 349,   0],\n",
       "         [  0,   3,  33]], dtype=int64),\n",
       "  array([[ 67,   2,   0],\n",
       "         [  1, 346,   1],\n",
       "         [  0,   2,  34]], dtype=int64)],\n",
       " array(['BAIK', 'SEDANG', 'TIDAK SEHAT'], dtype=object))"
      ]
     },
     "execution_count": 8,
     "metadata": {},
     "output_type": "execute_result"
    }
   ],
   "source": [
    "# Loop fold\n",
    "for fold_idx, (train_index, test_index) in enumerate(skf.split(X, y), start=1):\n",
    "    X_train, X_test = X.iloc[train_index], X.iloc[test_index]\n",
    "    y_train, y_test = y.iloc[train_index], y.iloc[test_index]\n",
    "\n",
    "    # Random Forest cost-sensitive learning\n",
    "    RFCSL = RandomForestClassifier(class_weight='balanced', random_state=42, n_estimators=100)\n",
    "    RFCSL.fit(X_train, y_train)\n",
    "    pred = RFCSL.predict(X_test)\n",
    "    \n",
    "    # Simpan model ke file\n",
    "    model_RFCSLFOLD = f'model_rfcsl_fold{fold_idx}.pkl'\n",
    "    dump(RFCSL, model_RFCSLFOLD)\n",
    "    print(f\" Model untuk Fold {fold_idx} disimpan sebagai '{model_RFCSLFOLD}'\")\n",
    "\n",
    "    # evaluasi model\n",
    "    report = classification_report(y_test, pred, output_dict=True, zero_division=0)\n",
    "    matrix = confusion_matrix(y_test, pred)\n",
    "\n",
    "    RFCSL_reports.append(report)\n",
    "    RFCSL_matrices.append(matrix)\n",
    "\n",
    "RFCSL_reports, RFCSL_matrices, le.classes_\n"
   ]
  },
  {
   "cell_type": "code",
   "execution_count": 9,
   "metadata": {},
   "outputs": [],
   "source": [
    "# Simpan semua classification report ke list of DataFrame\n",
    "report_dfs = []\n",
    "for i, report in enumerate(RFCSL_reports, 1):\n",
    "    df_report = pd.DataFrame(report).transpose()\n",
    "    df_report['fold'] = i\n",
    "    report_dfs.append(df_report)\n",
    "\n",
    "# Gabungkan semua fold menjadi satu DataFrame\n",
    "all_reports_df = pd.concat(report_dfs)"
   ]
  },
  {
   "cell_type": "code",
   "execution_count": 10,
   "metadata": {},
   "outputs": [],
   "source": [
    "# Simpan semua Confusion matrix ke list of DataFrame\n",
    "matrix_dfs = []\n",
    "for i, matrix in enumerate(RFCSL_matrices, 1):\n",
    "    df_matrix = pd.DataFrame(matrix, index=le.classes_, columns=le.classes_)\n",
    "    df_matrix['fold'] = i\n",
    "    matrix_dfs.append(df_matrix)\n",
    "    \n",
    " # Gabungkan semua fold menjadi satu DataFrame\n",
    "all_matrix_df = pd.concat(matrix_dfs)   "
   ]
  },
  {
   "cell_type": "code",
   "execution_count": 11,
   "metadata": {},
   "outputs": [],
   "source": [
    "# Simpan ke Excel:  dan confusion matrix\n",
    "with pd.ExcelWriter(\"hasil_evaluasi_RFCSL2024.xlsx\") as writer:\n",
    "      \n",
    "    # Sheet 1: Classification Reports\n",
    "    all_reports_df.to_excel(writer, sheet_name=\"Classification Report\")\n",
    "    \n",
    "    # Sheet 2: Confusion matrix\n",
    "    all_matrix_df.to_excel(writer, sheet_name=f\"ConfusionMatrix_Fold\")"
   ]
  },
  {
   "cell_type": "code",
   "execution_count": null,
   "metadata": {},
   "outputs": [],
   "source": []
  },
  {
   "cell_type": "code",
   "execution_count": null,
   "metadata": {},
   "outputs": [],
   "source": []
  },
  {
   "cell_type": "code",
   "execution_count": null,
   "metadata": {},
   "outputs": [],
   "source": []
  }
 ],
 "metadata": {
  "kernelspec": {
   "display_name": "Python 3",
   "language": "python",
   "name": "python3"
  },
  "language_info": {
   "codemirror_mode": {
    "name": "ipython",
    "version": 3
   },
   "file_extension": ".py",
   "mimetype": "text/x-python",
   "name": "python",
   "nbconvert_exporter": "python",
   "pygments_lexer": "ipython3",
   "version": "3.8.5"
  }
 },
 "nbformat": 4,
 "nbformat_minor": 4
}
