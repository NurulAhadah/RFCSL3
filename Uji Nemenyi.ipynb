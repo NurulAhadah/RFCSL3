{
 "cells": [
  {
   "cell_type": "code",
   "execution_count": 1,
   "metadata": {},
   "outputs": [
    {
     "name": "stdout",
     "output_type": "stream",
     "text": [
      "Hasil Uji Nemenyi:\n",
      "               Baseline  Undersampling  Oversampling       CSL\n",
      "Baseline       1.000000       0.316064      0.528951  0.803933\n",
      "Undersampling  0.316064       1.000000      0.011807  0.049613\n",
      "Oversampling   0.528951       0.011807      1.000000  0.900000\n",
      "CSL            0.803933       0.049613      0.900000  1.000000\n"
     ]
    }
   ],
   "source": [
    "import scikit_posthocs as sp\n",
    "import pandas as pd\n",
    "\n",
    "#baca file\n",
    "df = pd.read_csv('F1-score4m.csv')\n",
    "\n",
    "# Susun ulang data ke format long (required oleh scikit-posthocs)\n",
    "df_long = pd.melt(df, id_vars=[\"Fold\"], \n",
    "                  value_vars=[\"Baseline\", \"Undersampling\", \"Oversampling\", \"CSL\"],\n",
    "                  var_name=\"Metode\", value_name=\"F1\")\n",
    "\n",
    "# Lakukan uji Nemenyi\n",
    "nemenyi_result = sp.posthoc_nemenyi_friedman(df[[\"Baseline\", \"Undersampling\", \"Oversampling\", \"CSL\"]])\n",
    "\n",
    "# Tampilkan hasil\n",
    "print(\"Hasil Uji Nemenyi:\")\n",
    "print(nemenyi_result)\n"
   ]
  },
  {
   "cell_type": "code",
   "execution_count": null,
   "metadata": {},
   "outputs": [],
   "source": []
  }
 ],
 "metadata": {
  "kernelspec": {
   "display_name": "Python 3",
   "language": "python",
   "name": "python3"
  },
  "language_info": {
   "codemirror_mode": {
    "name": "ipython",
    "version": 3
   },
   "file_extension": ".py",
   "mimetype": "text/x-python",
   "name": "python",
   "nbconvert_exporter": "python",
   "pygments_lexer": "ipython3",
   "version": "3.8.5"
  }
 },
 "nbformat": 4,
 "nbformat_minor": 4
}
